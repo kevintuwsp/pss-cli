{
 "cells": [
  {
   "cell_type": "code",
   "execution_count": 2,
   "metadata": {},
   "outputs": [
    {
     "name": "stdout",
     "output_type": "stream",
     "text": [
      "C:/Users/mrkev/AppData/Roaming\n"
     ]
    }
   ],
   "source": [
    "from PyQt5.QtCore import QStandardPaths\n",
    "\n",
    "config_path = QStandardPaths.writableLocation(QStandardPaths.AppDataLocation)\n",
    "print(config_path)"
   ]
  },
  {
   "cell_type": "code",
   "execution_count": 3,
   "metadata": {},
   "outputs": [],
   "source": [
    "from PyQt5.QtCore import QSettings\n",
    "\n",
    "settings = QSettings(\"MySoft\", \"Star Runner\")\n",
    "settings.setValue(\"username\", \"user123\")\n"
   ]
  },
  {
   "cell_type": "code",
   "execution_count": 9,
   "metadata": {},
   "outputs": [
    {
     "data": {
      "text/plain": [
       "'\\\\HKEY_CURRENT_USER\\\\Software\\\\MySoft\\\\Star Runner'"
      ]
     },
     "execution_count": 9,
     "metadata": {},
     "output_type": "execute_result"
    }
   ],
   "source": [
    "settings.fileName()"
   ]
  },
  {
   "cell_type": "code",
   "execution_count": 18,
   "metadata": {},
   "outputs": [
    {
     "name": "stdout",
     "output_type": "stream",
     "text": [
      "None\n"
     ]
    }
   ],
   "source": [
    "test = settings.value(\"username\")\n",
    "print(test)"
   ]
  },
  {
   "cell_type": "code",
   "execution_count": 13,
   "metadata": {},
   "outputs": [],
   "source": [
    "settings.setValue(\"main/test\", \"hello\")"
   ]
  },
  {
   "cell_type": "code",
   "execution_count": 19,
   "metadata": {},
   "outputs": [
    {
     "data": {
      "text/plain": [
       "[]"
      ]
     },
     "execution_count": 19,
     "metadata": {},
     "output_type": "execute_result"
    }
   ],
   "source": [
    "settings.allKeys()"
   ]
  },
  {
   "cell_type": "code",
   "execution_count": 1,
   "metadata": {},
   "outputs": [
    {
     "name": "stdout",
     "output_type": "stream",
     "text": [
      "20\n"
     ]
    }
   ],
   "source": [
    "import logging\n",
    "print(logging.INFO)"
   ]
  },
  {
   "cell_type": "code",
   "execution_count": 2,
   "metadata": {},
   "outputs": [],
   "source": [
    "from core.models import Scenario"
   ]
  },
  {
   "cell_type": "code",
   "execution_count": 7,
   "metadata": {},
   "outputs": [
    {
     "name": "stdout",
     "output_type": "stream",
     "text": [
      "Scenario.bus_values <class 'sqlalchemy.orm.relationships._RelationshipDeclared'>\n",
      "Scenario.branch_values <class 'sqlalchemy.orm.relationships._RelationshipDeclared'>\n",
      "Scenario.machine_values <class 'sqlalchemy.orm.relationships._RelationshipDeclared'>\n",
      "Scenario.two_winding_transformer_values <class 'sqlalchemy.orm.relationships._RelationshipDeclared'>\n",
      "Scenario.case_links <class 'sqlalchemy.orm.relationships._RelationshipDeclared'>\n"
     ]
    }
   ],
   "source": [
    "for k, v in Scenario.__mapper__.relationships.items():\n",
    "    print(v, type(v))"
   ]
  },
  {
   "cell_type": "code",
   "execution_count": null,
   "metadata": {},
   "outputs": [
    {
     "ename": "",
     "evalue": "",
     "output_type": "error",
     "traceback": [
      "\u001b[1;31mRunning cells with '.venv (Python 3.7.9)' requires the ipykernel package.\n",
      "\u001b[1;31mRun the following command to install 'ipykernel' into the Python environment. \n",
      "\u001b[1;31mCommand: 'c:/Users/mrkev/Documents/Github/pss-cli/.venv/Scripts/python.exe -m pip install ipykernel -U --force-reinstall'"
     ]
    }
   ],
   "source": [
    "from pss_cli.core.database import db"
   ]
  },
  {
   "cell_type": "code",
   "execution_count": 8,
   "metadata": {},
   "outputs": [
    {
     "ename": "ModuleNotFoundError",
     "evalue": "No module named 'pss_cli'",
     "output_type": "error",
     "traceback": [
      "\u001b[1;31m---------------------------------------------------------------------------\u001b[0m",
      "\u001b[1;31mModuleNotFoundError\u001b[0m                       Traceback (most recent call last)",
      "Cell \u001b[1;32mIn[8], line 2\u001b[0m\n\u001b[0;32m      1\u001b[0m \u001b[38;5;28;01mfrom\u001b[39;00m \u001b[38;5;21;01mtyping\u001b[39;00m \u001b[38;5;28;01mimport\u001b[39;00m List, Optional, Sequence, Union\n\u001b[1;32m----> 2\u001b[0m \u001b[38;5;28;01mimport\u001b[39;00m \u001b[38;5;21;01msrc\u001b[39;00m\u001b[38;5;21;01m.\u001b[39;00m\u001b[38;5;21;01mpss_cli\u001b[39;00m\u001b[38;5;21;01m.\u001b[39;00m\u001b[38;5;21;01mcore\u001b[39;00m\u001b[38;5;21;01m.\u001b[39;00m\u001b[38;5;21;01mmodels\u001b[39;00m \u001b[38;5;28;01mas\u001b[39;00m \u001b[38;5;21;01mmodels\u001b[39;00m\n\u001b[0;32m      3\u001b[0m \u001b[38;5;28;01mfrom\u001b[39;00m \u001b[38;5;21;01msqlmodel\u001b[39;00m \u001b[38;5;28;01mimport\u001b[39;00m SQLModel, Session, select, create_engine\n\u001b[0;32m      4\u001b[0m \u001b[38;5;28;01mfrom\u001b[39;00m \u001b[38;5;21;01msqlalchemy\u001b[39;00m \u001b[38;5;28;01mimport\u001b[39;00m ColumnElement\n",
      "File \u001b[1;32mc:\\Users\\mrkev\\Documents\\Github\\pss-cli\\src\\pss_cli\\__init__.py:1\u001b[0m\n\u001b[1;32m----> 1\u001b[0m \u001b[38;5;28;01mfrom\u001b[39;00m \u001b[38;5;21;01mpss_cli\u001b[39;00m\u001b[38;5;21;01m.\u001b[39;00m\u001b[38;5;21;01mpsse\u001b[39;00m\u001b[38;5;21;01m.\u001b[39;00m\u001b[38;5;21;01mapi\u001b[39;00m\u001b[38;5;21;01m.\u001b[39;00m\u001b[38;5;21;01mbase\u001b[39;00m \u001b[38;5;28;01mimport\u001b[39;00m PsseAPI\n",
      "\u001b[1;31mModuleNotFoundError\u001b[0m: No module named 'pss_cli'"
     ]
    }
   ],
   "source": [
    "from typing import List, Optional, Sequence, Union\n",
    "import src.pss_cli.core.models as models\n",
    "from sqlmodel import SQLModel, Session, select, create_engine\n",
    "from sqlalchemy import ColumnElement\n",
    "\n",
    "\n",
    "class Database:\n",
    "    def __init__(self, sqlite_filename: str):\n",
    "        sqlite_url = f\"sqlite:///{sqlite_filename}\"\n",
    "        self.engine = create_engine(sqlite_url)\n",
    "\n",
    "    def get_all_table_names(self) -> List[str]:\n",
    "        \"\"\"Return a list of all table names\"\"\"\n",
    "        return list(map(str, SQLModel.metadata.tables.keys()))\n",
    "\n",
    "    def get_table_object(self, table_name: str):\n",
    "        \"\"\"Return a SQLModel of the table from the table name\"\"\"\n",
    "\n",
    "        tables_dict = {\n",
    "            str(table.__tablename__): table for table in SQLModel.__subclasses__()\n",
    "        }\n",
    "        return tables_dict.get(table_name)\n",
    "\n",
    "    def create_db_and_tables(self):\n",
    "        SQLModel.metadata.create_all(bind=self.engine)\n",
    "\n",
    "    def select_table(\n",
    "        self,\n",
    "        table_name: str,\n",
    "        where: Optional[ColumnElement[bool]] = None,\n",
    "        session: Optional[Session] = None,\n",
    "    ) -> Union[Sequence[SQLModel], Sequence[None], None]:\n",
    "        \"\"\"Return objects from the database table\"\"\"\n",
    "\n",
    "        table_obj = self.get_table_object(table_name)\n",
    "        statement = select(table_obj)\n",
    "        if where is not None:\n",
    "            statement = statement.where(where)\n",
    "\n",
    "        if not session:\n",
    "            with self.session() as session:\n",
    "                results = session.exec(statement).all()\n",
    "        else:\n",
    "            results = session.exec(statement).all()\n",
    "\n",
    "        if None in results:\n",
    "            return None\n",
    "\n",
    "        return results\n",
    "\n",
    "    def session(self):\n",
    "        \"\"\"Return a session object\"\"\"\n",
    "        return Session(self.engine)\n",
    "\n",
    "    def add(self, obj: SQLModel, session: Session, commit: bool = True):\n",
    "        \"\"\"Add an object to the database\"\"\"\n",
    "\n",
    "        session.add(obj)\n",
    "\n",
    "        if commit:\n",
    "            session.commit()\n",
    "            session.refresh(obj)\n",
    "        # print(f\"Added {obj.__tablename__} object to the database:\")\n",
    "        # print_model(obj)\n",
    "        return obj\n",
    "\n",
    "    def delete(self, obj: SQLModel, session: Session, commit: bool = True):\n",
    "        \"\"\"Delete an object from the database\"\"\"\n",
    "\n",
    "        session.delete(obj)\n",
    "\n",
    "        if commit:\n",
    "            session.commit()\n",
    "\n",
    "    def commit(self, session: Session):\n",
    "        \"\"\"Commit the session\"\"\"\n",
    "        session.commit()\n",
    "\n",
    "\n",
    "db = Database(sqlite_filename=\"sqlite.db\")\n"
   ]
  },
  {
   "cell_type": "code",
   "execution_count": 6,
   "metadata": {},
   "outputs": [],
   "source": [
    "db.create_db_and_tables()"
   ]
  },
  {
   "cell_type": "code",
   "execution_count": 7,
   "metadata": {},
   "outputs": [
    {
     "data": {
      "text/plain": [
       "[]"
      ]
     },
     "execution_count": 7,
     "metadata": {},
     "output_type": "execute_result"
    }
   ],
   "source": [
    "db.get_all_table_names()"
   ]
  }
 ],
 "metadata": {
  "kernelspec": {
   "display_name": ".venv",
   "language": "python",
   "name": "python3"
  },
  "language_info": {
   "codemirror_mode": {
    "name": "ipython",
    "version": 3
   },
   "file_extension": ".py",
   "mimetype": "text/x-python",
   "name": "python",
   "nbconvert_exporter": "python",
   "pygments_lexer": "ipython3",
   "version": "3.12.1"
  }
 },
 "nbformat": 4,
 "nbformat_minor": 2
}
